{
  "nbformat": 4,
  "nbformat_minor": 0,
  "metadata": {
    "colab": {
      "name": "Project กลุ่ม.ipynb",
      "provenance": [],
      "authorship_tag": "ABX9TyNwYUY1OtSKg5qb9YdoOevf",
      "include_colab_link": true
    },
    "kernelspec": {
      "name": "python3",
      "display_name": "Python 3"
    },
    "language_info": {
      "name": "python"
    }
  },
  "cells": [
    {
      "cell_type": "markdown",
      "metadata": {
        "id": "view-in-github",
        "colab_type": "text"
      },
      "source": [
        "<a href=\"https://colab.research.google.com/github/Thitichaya2000/data_viz_2022/blob/main/Project_%E0%B8%81%E0%B8%A5%E0%B8%B8%E0%B9%88%E0%B8%A1.ipynb\" target=\"_parent\"><img src=\"https://colab.research.google.com/assets/colab-badge.svg\" alt=\"Open In Colab\"/></a>"
      ]
    },
    {
      "cell_type": "markdown",
      "source": [
        "#Project กลุ่ม\n",
        "ทำ Dashboard ของ Data Covid (ตั้งแต่วันที่ 12/01/2020 - 18/03/2022) เล่ามุมมองที่เราเลือกเอง + ใช้ข้อมูลภูมิภาค + ข้อมูลอื่นที่เลือกเอง\n",
        "\n",
        "เริ่มพรีเซ็นต์ 25 มีค 30 มีค 1 เมษา"
      ],
      "metadata": {
        "id": "_fK4PmWhHYi0"
      }
    },
    {
      "cell_type": "code",
      "execution_count": null,
      "metadata": {
        "id": "b2HpWRrSHTSB"
      },
      "outputs": [],
      "source": [
        ""
      ]
    }
  ]
}